{
  "nbformat": 4,
  "nbformat_minor": 0,
  "metadata": {
    "colab": {
      "provenance": []
    },
    "kernelspec": {
      "name": "python3",
      "display_name": "Python 3"
    },
    "language_info": {
      "name": "python"
    }
  },
  "cells": [
    {
      "cell_type": "markdown",
      "source": [
        "Tugas 1 Artificial Intelligence (AI)\n",
        "\n",
        "Nama : Muhammad Dafi Rayhan Haryadi\n",
        "\n",
        "NPM : 2106707391\n",
        "\n",
        "Program studi: Fisika"
      ],
      "metadata": {
        "id": "CnKOu7UJXHVJ"
      }
    },
    {
      "cell_type": "code",
      "source": [
        "## GETTING STARTED WITH PYTHON\n",
        "\n",
        "print(\"Dafi will be a succesful man\")"
      ],
      "metadata": {
        "colab": {
          "base_uri": "https://localhost:8080/"
        },
        "id": "fu11nabQXUAE",
        "outputId": "fba00c70-a96e-4362-a6b9-53ba268f2116"
      },
      "execution_count": null,
      "outputs": [
        {
          "output_type": "stream",
          "name": "stdout",
          "text": [
            "Dafi will be a succesful man\n"
          ]
        }
      ]
    },
    {
      "cell_type": "code",
      "source": [
        "## MATHEMATICAL OPERATIONS\n",
        "\n",
        "a = 22\n",
        "b = 20\n",
        "c = 7\n",
        "d = (a + b)\n",
        "e = d / c #---hasil dalam bentuk float karena menggunakan single slash (/)\n",
        "print('e =', int(e)) #---int(e) digunakan untuk mengonversi float ke integer\n",
        "\n",
        "f = 'DA'\n",
        "g = 'FI'\n",
        "h = f + g\n",
        "print (h)\n",
        "\n",
        "i = 'Da'\n",
        "j = 'fi'\n",
        "k = i + '' + j #---sebagai alternatif dari operasi sebelumnya\n",
        "print(k)"
      ],
      "metadata": {
        "colab": {
          "base_uri": "https://localhost:8080/"
        },
        "id": "wLiEuzZaXp_M",
        "outputId": "292a08d0-40f4-47fb-bdd4-80e569ce642d"
      },
      "execution_count": null,
      "outputs": [
        {
          "output_type": "stream",
          "name": "stdout",
          "text": [
            "e = 6\n",
            "DAFI\n",
            "Dafi\n"
          ]
        }
      ]
    },
    {
      "cell_type": "code",
      "source": [
        "## SIMPLE FOR LOOP\n",
        "\n",
        "for i in range(3):\n",
        "  print(i)\n",
        "print('Finished')"
      ],
      "metadata": {
        "colab": {
          "base_uri": "https://localhost:8080/"
        },
        "id": "HqpUSdNGZL1P",
        "outputId": "dc820915-713e-4b50-9c77-2a659e1cccac"
      },
      "execution_count": null,
      "outputs": [
        {
          "output_type": "stream",
          "name": "stdout",
          "text": [
            "0\n",
            "1\n",
            "2\n",
            "Finished\n"
          ]
        }
      ]
    },
    {
      "cell_type": "code",
      "source": [
        "## NESTED FOR LOOP\n",
        "\n",
        "for i in range(3):\n",
        "  for j in range(5):\n",
        "    k = i*j\n",
        "    print(k)\n",
        "  print('Inner Loop Finished')\n",
        "print('Outer Loop Finished')"
      ],
      "metadata": {
        "colab": {
          "base_uri": "https://localhost:8080/"
        },
        "id": "EfROOV4Rr1z1",
        "outputId": "c8603a61-8a5e-4e3c-cebf-6dcab2b7928f"
      },
      "execution_count": null,
      "outputs": [
        {
          "output_type": "stream",
          "name": "stdout",
          "text": [
            "0\n",
            "0\n",
            "0\n",
            "0\n",
            "0\n",
            "Inner Loop Finished\n",
            "0\n",
            "1\n",
            "2\n",
            "3\n",
            "4\n",
            "Inner Loop Finished\n",
            "0\n",
            "2\n",
            "4\n",
            "6\n",
            "8\n",
            "Inner Loop Finished\n",
            "Outer Loop Finished\n"
          ]
        }
      ]
    },
    {
      "cell_type": "code",
      "source": [
        "## WHILE LOOP\n",
        "\n",
        "x = -3\n",
        "while x < 3:\n",
        "  x = x + 1\n",
        "  print(x)\n",
        "print('Finished')"
      ],
      "metadata": {
        "colab": {
          "base_uri": "https://localhost:8080/"
        },
        "id": "sAaHy4r7unD2",
        "outputId": "38eb4a79-87b3-45df-9210-f29a1e80ba41"
      },
      "execution_count": null,
      "outputs": [
        {
          "output_type": "stream",
          "name": "stdout",
          "text": [
            "-2\n",
            "-1\n",
            "0\n",
            "1\n",
            "2\n",
            "3\n",
            "Finished\n"
          ]
        }
      ]
    },
    {
      "cell_type": "code",
      "source": [
        "## IF ELSE\n",
        "\n",
        "voice = 'lumos'\n",
        "if(voice == 'lumos'):\n",
        "  print('Flashlight on')\n",
        "elif(voice == 'nox'):\n",
        "  print('Flashlight off')"
      ],
      "metadata": {
        "colab": {
          "base_uri": "https://localhost:8080/"
        },
        "id": "WeUEkXTas1KS",
        "outputId": "4682237b-7100-4c08-e957-3e3e597d4d93"
      },
      "execution_count": null,
      "outputs": [
        {
          "output_type": "stream",
          "name": "stdout",
          "text": [
            "Flashlight on\n"
          ]
        }
      ]
    },
    {
      "cell_type": "code",
      "source": [
        "## PYTHON FUNCTION\n",
        "\n",
        "def multiply(x,y):\n",
        "  z = x*y\n",
        "  return z\n",
        "\n",
        "result = multiply(5,2)\n",
        "print(result)"
      ],
      "metadata": {
        "colab": {
          "base_uri": "https://localhost:8080/"
        },
        "id": "3vpBjc3DtmYr",
        "outputId": "47a96863-04e9-45d2-9f1a-1ff3ed96c746"
      },
      "execution_count": null,
      "outputs": [
        {
          "output_type": "stream",
          "name": "stdout",
          "text": [
            "10\n"
          ]
        }
      ]
    },
    {
      "cell_type": "code",
      "source": [
        "## FIND THE MAXIMUM VALUE\n",
        "\n",
        "def maxarray(xs):\n",
        "  m = xs[0]\n",
        "  for x in xs:\n",
        "    if m < x:\n",
        "      m = x\n",
        "  return m\n",
        "\n",
        "prime = [2,3,5,7,11]\n",
        "t = maxarray(prime)\n",
        "print(t)"
      ],
      "metadata": {
        "colab": {
          "base_uri": "https://localhost:8080/"
        },
        "id": "QsAKWuPNvZBG",
        "outputId": "3a38849b-178a-4f55-ab98-c4f2e790f891"
      },
      "execution_count": null,
      "outputs": [
        {
          "output_type": "stream",
          "name": "stdout",
          "text": [
            "11\n"
          ]
        }
      ]
    },
    {
      "cell_type": "code",
      "source": [
        "## READ TEXT FROM THE KEYBOARD\n",
        "\n",
        "print('Berapa usiamu?')\n",
        "usia = int(input()) #---agar input berupa integer sehingga bisa dibaca oleh parameter if else\n",
        "\n",
        "if(usia < 30): #--menggunakan if else untuk memvariasikan respon untuk range input berbeda\n",
        "  print(usia, 'tahun itu masih muda')\n",
        "elif(usia >= 50):\n",
        "  print(usia, 'tahun itu sudah tua')\n",
        "else:\n",
        "  print(usia, 'tahun itu ideal')"
      ],
      "metadata": {
        "colab": {
          "base_uri": "https://localhost:8080/"
        },
        "id": "2pc9admAwZK6",
        "outputId": "4704674a-fb85-4862-f3d9-0a553de88915"
      },
      "execution_count": null,
      "outputs": [
        {
          "output_type": "stream",
          "name": "stdout",
          "text": [
            "Berapa usiamu?\n",
            "50\n",
            "50 tahun itu sudah tua\n"
          ]
        }
      ]
    },
    {
      "cell_type": "code",
      "source": [
        "## READ A LIST OF NUMBERS FROM THE KEYBOARD\n",
        "\n",
        "p = input('Input a list of numbers:')\n",
        "q = map(int, s.split())\n",
        "numbers = list(q)\n",
        "print(numbers)"
      ],
      "metadata": {
        "colab": {
          "base_uri": "https://localhost:8080/"
        },
        "id": "qOpGOBWu0i5I",
        "outputId": "0be099af-db4f-4ea6-b3b7-b336b509314b"
      },
      "execution_count": null,
      "outputs": [
        {
          "output_type": "stream",
          "name": "stdout",
          "text": [
            "Input a list of numbers:1 2 8 5 0 3 4\n",
            "[1, 2, 8, 5, 0, 3, 4]\n"
          ]
        }
      ]
    },
    {
      "cell_type": "code",
      "source": [
        "## MATH LIBRARY\n",
        "\n",
        "# Menambahkan library yang berisi berbagai fungsi operasi dan notasi matematis yang dibutuhkan:\n",
        "import math\n",
        "\n",
        "# Mengaplikasikan library untuk memperoleh hasil dari operasi matematika:\n",
        "r = 5\n",
        "cir  = 2 * math.pi * r\n",
        "print('The circumference is', str(cir))\n",
        "\n",
        "x = 5\n",
        "y = math.sqrt(x)\n",
        "print('The square root of', str(x), 'is', str(y))\n",
        "\n",
        "x = 7\n",
        "y = math.factorial(x)\n",
        "print('The factorial of', str(x), 'is', str(y))\n",
        "\n",
        "x = 16.4\n",
        "y = math.floor(x)\n",
        "print('The floor of', str(x), 'is', str(y))\n",
        "\n",
        "x = 16.4\n",
        "y = math.ceil(x)\n",
        "print('The ceiling of', str(x), 'is', str(y))"
      ],
      "metadata": {
        "colab": {
          "base_uri": "https://localhost:8080/"
        },
        "id": "lwOvjTFe609A",
        "outputId": "375c42c2-7cde-447d-8189-babbe7610bee"
      },
      "execution_count": null,
      "outputs": [
        {
          "output_type": "stream",
          "name": "stdout",
          "text": [
            "The circumference is 31.41592653589793\n",
            "The square root of 5 is 2.23606797749979\n",
            "The factorial of 7 is 5040\n",
            "The floor of 16.4 is 16\n",
            "The ceiling of 16.4 is 17\n"
          ]
        }
      ]
    },
    {
      "cell_type": "code",
      "source": [
        "## PLOTTING\n",
        "\n",
        "# Menambahkan library yang berisi fungsi-fungsi yang dibutuhkan:\n",
        "import matplotlib.pyplot as plt\n",
        "import numpy as np\n",
        "\n",
        "# Mendefinisikan variabel yang diperlukan untuk plotting:\n",
        "x = [i for i in range(100)]\n",
        "x = np.array(x)\n",
        "x = 2 * np.pi * x * 0.01\n",
        "y = np.sin(x)\n",
        "\n",
        "# Melabeli variabel yang diperlukan dalam plotting:\n",
        "plt.plot(x,y)\n",
        "plt.title('Sin Plot')\n",
        "plt.xlabel('x')\n",
        "plt.ylabel('y = sin(x)')\n",
        "\n",
        "# Menghasilkan plotting grafik sinusoidal:\n",
        "plt.show()"
      ],
      "metadata": {
        "colab": {
          "base_uri": "https://localhost:8080/",
          "height": 472
        },
        "id": "frycoXyE7pIC",
        "outputId": "45f35797-7b97-4cdc-e869-79bbf8acb66a"
      },
      "execution_count": null,
      "outputs": [
        {
          "output_type": "display_data",
          "data": {
            "text/plain": [
              "<Figure size 640x480 with 1 Axes>"
            ],
            "image/png": "[encoded data removed]"
          },
          "metadata": {}
        }
      ]
    },
    {
      "cell_type": "code",
      "source": [
        "## CREATE A CSV FILE\n",
        "\n",
        "import pandas as pd\n",
        "\n",
        "data = {'Kota': ['Jakarta', 'Bandung', 'Surabaya', 'Denpasar'], 'Populasi': [1000, 600, 900, 700]}\n",
        "\n",
        "df = pd.DataFrame(data, columns = ['Kota', 'Populasi'])\n",
        "\n",
        "print(df)\n",
        "df.to_csv('statistik penduduk.csv', index=False)"
      ],
      "metadata": {
        "colab": {
          "base_uri": "https://localhost:8080/"
        },
        "id": "-8_yr1Ew-vc3",
        "outputId": "3b4e82e4-f0e8-45c6-83ca-346154c69687"
      },
      "execution_count": null,
      "outputs": [
        {
          "output_type": "stream",
          "name": "stdout",
          "text": [
            "       Kota  Populasi\n",
            "0   Jakarta      1000\n",
            "1   Bandung       600\n",
            "2  Surabaya       900\n",
            "3  Denpasar       700\n"
          ]
        }
      ]
    },
    {
      "cell_type": "code",
      "source": [
        "## READ A CSV FILE\n",
        "\n",
        "import pandas as pd\n",
        "\n",
        "df = pd.read_csv('statistik penduduk.csv')\n",
        "print(df)"
      ],
      "metadata": {
        "colab": {
          "base_uri": "https://localhost:8080/"
        },
        "id": "SSrRBsDoD3qr",
        "outputId": "9c157c74-ad36-4a3f-a834-82cb3456f617"
      },
      "execution_count": null,
      "outputs": [
        {
          "output_type": "stream",
          "name": "stdout",
          "text": [
            "       Kota  Populasi\n",
            "0   Jakarta      1000\n",
            "1   Bandung       600\n",
            "2  Surabaya       900\n",
            "3  Denpasar       700\n"
          ]
        }
      ]
    },
    {
      "cell_type": "code",
      "source": [
        "!pip install xlsxwriter"
      ],
      "metadata": {
        "colab": {
          "base_uri": "https://localhost:8080/"
        },
        "id": "85l12NFXGWtV",
        "outputId": "68e2d6c5-ce5e-4d5b-a8d6-3db1a4374511"
      },
      "execution_count": null,
      "outputs": [
        {
          "output_type": "stream",
          "name": "stdout",
          "text": [
            "Collecting xlsxwriter\n",
            "  Downloading XlsxWriter-3.1.9-py3-none-any.whl (154 kB)\n",
            "\u001b[2K     \u001b[90m━━━━━━━━━━━━━━━━━━━━━━━━━━━━━━━━━━━━━━━━\u001b[0m \u001b[32m154.8/154.8 kB\u001b[0m \u001b[31m3.0 MB/s\u001b[0m eta \u001b[36m0:00:00\u001b[0m\n",
            "\u001b[?25hInstalling collected packages: xlsxwriter\n",
            "Successfully installed xlsxwriter-3.1.9\n"
          ]
        }
      ]
    },
    {
      "cell_type": "code",
      "source": [
        "## CREATE AN EXCEL FILE\n",
        "\n",
        "import warnings\n",
        "\n",
        "# Menahan FutureWarning\n",
        "warnings.simplefilter(action='ignore', category=FutureWarning)\n",
        "\n",
        "import xlsxwriter\n",
        "import pandas as pd\n",
        "\n",
        "data = {'Kota': ['Jakarta', 'Bandung', 'Surabaya', 'Denpasar'], 'Populasi': [1000, 600, 900, 700]}\n",
        "\n",
        "df = pd.DataFrame(data, columns = ['Kota', 'Populasi'])\n",
        "\n",
        "print(df)\n",
        "\n",
        "# Membuat ExcelWriter object\n",
        "with pd.ExcelWriter('statistik penduduk.xlsx', engine='xlsxwriter') as writer:\n",
        "  df.to_excel(writer, sheet_name='Sheet1', index=False)"
      ],
      "metadata": {
        "colab": {
          "base_uri": "https://localhost:8080/"
        },
        "id": "2bl1iAdlErq5",
        "outputId": "e58e824d-9304-468b-8cc3-0fc64f696f65"
      },
      "execution_count": null,
      "outputs": [
        {
          "output_type": "stream",
          "name": "stdout",
          "text": [
            "       Kota  Populasi\n",
            "0   Jakarta      1000\n",
            "1   Bandung       600\n",
            "2  Surabaya       900\n",
            "3  Denpasar       700\n"
          ]
        }
      ]
    },
    {
      "cell_type": "code",
      "source": [
        "## READ AN EXCEL FILE\n",
        "\n",
        "import pandas as pd\n",
        "\n",
        "df = pd.read_excel('statistik penduduk.xlsx', sheet_name='Sheet1')\n",
        "print(df)"
      ],
      "metadata": {
        "colab": {
          "base_uri": "https://localhost:8080/"
        },
        "id": "5sdBltsfHZ78",
        "outputId": "7cd18a87-76ea-480b-bfa1-4ea25c6a57a9"
      },
      "execution_count": null,
      "outputs": [
        {
          "output_type": "stream",
          "name": "stdout",
          "text": [
            "       Kota  Populasi\n",
            "0   Jakarta      1000\n",
            "1   Bandung       600\n",
            "2  Surabaya       900\n",
            "3  Denpasar       700\n"
          ]
        }
      ]
    }
  ]
}